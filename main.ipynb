{
 "cells": [
  {
   "cell_type": "code",
   "execution_count": null,
   "id": "25dfe8b6-d0e3-437f-b266-dbf3bb69d670",
   "metadata": {},
   "outputs": [],
   "source": [
    "\"\"\"\n",
    "date : 2024-11-14\n",
    "version : 1.0.0\n",
    "writer : cwkang\n",
    "\"\"\""
   ]
  },
  {
   "cell_type": "code",
   "execution_count": 27,
   "id": "5c9a055a-cb16-4a70-8a67-b3e5fdb84e6f",
   "metadata": {},
   "outputs": [],
   "source": [
    "import os\n",
    "import json\n",
    "import logging\n",
    "import argparse\n",
    "import folium\n",
    "import warnings\n",
    "import numpy as np\n",
    "import pandas as pd\n",
    "from PIL import Image\n",
    "from folium import plugins\n",
    "from ast import literal_eval\n",
    "from attrdictionary  import AttrDict\n",
    "\n",
    "from utils import init_logger\n",
    "from preprocessing import Preprocessing\n",
    "from analyzer import clustering, metrix_to_sequence\n",
    "from plot import CongestionPolt, CongestionImagePolt\n",
    "\n",
    "logger = logging.getLogger(__name__)\n",
    "warnings.filterwarnings(\"ignore\")"
   ]
  },
  {
   "cell_type": "code",
   "execution_count": 2,
   "id": "6c64947f-888d-4a70-9399-8f5de8263157",
   "metadata": {},
   "outputs": [],
   "source": [
    "init_logger()\n",
    "\n",
    "cli_parser = argparse.ArgumentParser()\n",
    "cli_args = cli_parser.parse_args(\"\")\n",
    "\n",
    "cli_args.config_dir = \"config\"\n",
    "cli_args.config_file = \"config.json\"\n",
    "\n",
    "with open(os.path.join(cli_args.config_dir, cli_args.config_file), encoding=\"utf-8\") as f:\n",
    "    args = AttrDict(json.load(f))"
   ]
  },
  {
   "cell_type": "code",
   "execution_count": null,
   "id": "22d100fa-b324-486a-873e-ca1029e58ed5",
   "metadata": {},
   "outputs": [],
   "source": [
    "%%time\n",
    "prep = Preprocessing(args)\n",
    "\n",
    "# SRCMAC Unique 값 추출\n",
    "pre_raw_data = prep.get_preprocessed_data(raw_data=args.raw_data, time=True)\n",
    "srcmac_unique_df = prep.calc_srcmac_unique(pre_raw_data)\n",
    "\n",
    "# 일자별 SRCMAC의 수\n",
    "people_cnt, _ = prep.calc_loc_people_counts(pre_raw_data, srcmac_unique_df, cumsum=\"00:01:00\", loc=False, on_time=False, is_save=True)\n",
    "\n",
    "# 시간대별 SRCMAC의 수\n",
    "h_people_cnt, _ = prep.calc_loc_people_counts(pre_raw_data, srcmac_unique_df, cumsum=\"00:01:00\", loc=False, on_time=True, is_save=True)\n",
    "\n",
    "# 공간별 체류인원수\n",
    "loc_srcmac_cnt, loc_people_cnt, srcmac_uni_matched_raw_data = prep.calc_loc_people_counts(pre_raw_data, srcmac_unique_df, cumsum=\"00:01:00\", loc=True, on_time=False, is_save=True)\n",
    "\n",
    "# 공간별 시간별 체류인원수\n",
    "loc_srcmac_cnt, loc_h_people_cnt, srcmac_uni_matched_raw_data = prep.calc_loc_people_counts(pre_raw_data, srcmac_unique_df, cumsum=\"00:01:00\", loc=True, on_time=True, is_save=True)\n",
    "\n",
    "# Location 별 SRCMAC의 수 및 평균 Spenttime\n",
    "h_loc_spenttime_mean_df, over_basetime_both_df = prep.calc_loc_people_spenttime(pre_raw_data, srcmac_unique_df, loc=True)\n",
    "\n",
    "# Plot를 위한 Matrix 데이터\n",
    "srcmac_loc_seq_metrix = prep.create_srcmac_loc_sequence_metrix(over_basetime_both_df)\n",
    "cluster_metrix = clustering(srcmac_loc_seq_metrix)\n",
    "mtx_seq_df = metrix_to_sequence(prep.zone_tbl, srcmac_loc_seq_metrix)"
   ]
  },
  {
   "cell_type": "code",
   "execution_count": 7,
   "id": "ab1968d2-50bb-4c87-a5c3-6aaee54339f7",
   "metadata": {},
   "outputs": [],
   "source": [
    "def generate_heatmap_points(start_poi, end_poi, num_poi=3):\n",
    "    \"\"\"\n",
    "    경로에 따라 임의의 heatmap point 생성 함수\n",
    "    두 지점 사이의 경로를 따라 점들과 가중치를 생성\n",
    "    start_poi: 시작 지점 (위도, 경도)\n",
    "    end_poi: 끝 지점 (위도, 경도)\n",
    "    num_poi: 생성할 poi의 개수\n",
    "    \"\"\"\n",
    "    latitudes = np.linspace(start_poi[0], end_poi[0], num_poi)\n",
    "    longitudes = np.linspace(start_poi[1], end_poi[1], num_poi)\n",
    "    counts = np.linspace(start_poi[2], end_poi[2], num_poi)\n",
    "    \n",
    "    return [[lat, lon, cnt] for lat, lon, cnt in zip(latitudes, longitudes, counts)]"
   ]
  },
  {
   "cell_type": "code",
   "execution_count": null,
   "id": "50b18656-2583-4840-aad0-cbee937ebb71",
   "metadata": {},
   "outputs": [],
   "source": [
    "if args.task == \"gangneung\":\n",
    "    # min: 43, max: 2527\n",
    "    plot = CongestionPolt(prep.zone_tbl, args)\n",
    "\n",
    "    if args.is_line_plot == True:\n",
    "        # Line Plot    \n",
    "        plot.seq_to_seq_flow_polyline(cluster_metrix, n_priority=50)\n",
    "\n",
    "    if args.is_heatmap_plot == True:\n",
    "        for hour in range(9, 21):\n",
    "            # Heatmap\n",
    "            plot.heat_map(loc_h_people_cnt, hour, is_interpolate=True)\n",
    "\n",
    "elif args.task == \"kme2024\":\n",
    "    # min: 26, max: 794\n",
    "    plot = CongestionImagePolt(prep.zone_tbl, args)\n",
    "\n",
    "    if args.is_line_plot == True:\n",
    "        plot.seq_to_seq_flow_polyline(cluster_metrix, n_priority=50)\n",
    "\n",
    "    if args.is_heatmap_plot == True: \n",
    "        for hour in range(10, 19):\n",
    "            plot.heat_map(loc_h_people_cnt, hour, radius=70, is_interpolate=True, min_value=26, max_value=794)"
   ]
  },
  {
   "cell_type": "code",
   "execution_count": null,
   "id": "e20716d4-aa07-4ee6-92ab-ec130e1af9d9",
   "metadata": {},
   "outputs": [],
   "source": []
  }
 ],
 "metadata": {
  "kernelspec": {
   "display_name": "Python 3 (ipykernel)",
   "language": "python",
   "name": "python3"
  },
  "language_info": {
   "codemirror_mode": {
    "name": "ipython",
    "version": 3
   },
   "file_extension": ".py",
   "mimetype": "text/x-python",
   "name": "python",
   "nbconvert_exporter": "python",
   "pygments_lexer": "ipython3",
   "version": "3.13.0"
  }
 },
 "nbformat": 4,
 "nbformat_minor": 5
}
