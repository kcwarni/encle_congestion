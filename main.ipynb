{
 "cells": [
  {
   "cell_type": "code",
   "execution_count": null,
   "id": "25dfe8b6-d0e3-437f-b266-dbf3bb69d670",
   "metadata": {},
   "outputs": [],
   "source": [
    "\"\"\"\n",
    "date : 2024-11-14\n",
    "version : 1.0.0\n",
    "writer : cwkang\n",
    "\"\"\""
   ]
  },
  {
   "cell_type": "code",
   "execution_count": 1,
   "id": "5c9a055a-cb16-4a70-8a67-b3e5fdb84e6f",
   "metadata": {},
   "outputs": [],
   "source": [
    "import os\n",
    "import json\n",
    "import logging\n",
    "import argparse\n",
    "from ast import literal_eval\n",
    "from attrdictionary  import AttrDict\n",
    "\n",
    "from utils import init_logger\n",
    "from preprocessing import Preprocessing\n",
    "from analyzer import clustering, metrix_to_sequence\n",
    "from plot import CongestionPolt\n",
    "\n",
    "logger = logging.getLogger(__name__)"
   ]
  },
  {
   "cell_type": "code",
   "execution_count": 2,
   "id": "6c64947f-888d-4a70-9399-8f5de8263157",
   "metadata": {},
   "outputs": [],
   "source": [
    "init_logger()\n",
    "\n",
    "cli_parser = argparse.ArgumentParser()\n",
    "cli_args = cli_parser.parse_args(\"\")\n",
    "\n",
    "cli_args.config_dir = \"config\"\n",
    "cli_args.config_file = \"config.json\"\n",
    "\n",
    "with open(os.path.join(cli_args.config_dir, cli_args.config_file)) as f:\n",
    "    args = AttrDict(json.load(f))"
   ]
  },
  {
   "cell_type": "code",
   "execution_count": 3,
   "id": "22d100fa-b324-486a-873e-ca1029e58ed5",
   "metadata": {},
   "outputs": [
    {
     "name": "stderr",
     "output_type": "stream",
     "text": [
      "11/14/2024 17:37:57 - INFO - preprocessing.preprocessing -   gangneung_zoneTable.csv DataFrame Shape : (12, 8)\n",
      "11/14/2024 17:37:58 - INFO - preprocessing.preprocessing -   gangneung_rawData_20241025.csv DataFrame Shape : (2566189, 4)\n",
      "11/14/2024 17:38:17 - INFO - preprocessing.preprocessing -   The Processed DataFrame Shape : (2205701, 5)\n",
      "11/14/2024 17:38:17 - INFO - preprocessing.preprocessing -   SRCMAC Unique Number : (31281, 4)\n",
      "11/14/2024 17:38:17 - INFO - preprocessing.preprocessing -   People Count by Location : (29606, 6)\n",
      "11/14/2024 17:38:20 - INFO - preprocessing.preprocessing -   Remove time_diff over Base Time : (25197, 7)\n",
      "11/14/2024 17:38:20 - INFO - preprocessing.preprocessing -   Average Dwell Time per Location and OnTime : (144, 3)\n",
      "11/14/2024 17:38:20 - INFO - preprocessing.preprocessing -   SRCMAC Location Sequence Metrix Shape : (9908, 13)\n"
     ]
    },
    {
     "name": "stdout",
     "output_type": "stream",
     "text": [
      "CPU times: total: 15 s\n",
      "Wall time: 22.7 s\n"
     ]
    }
   ],
   "source": [
    "%%time\n",
    "gangneung_coffee_1 = Preprocessing(args)\n",
    "\n",
    "pre_raw_data = gangneung_coffee_1.get_preprocessed_data(raw_data=\"gangneung_rawData_20241025.csv\", time=True)\n",
    "srcmac_unique_df = gangneung_coffee_1.calc_srcmac_unique(pre_raw_data)\n",
    "loc_people_cnt = gangneung_coffee_1.calc_loc_people_counts(pre_raw_data, srcmac_unique_df, loc=True)\n",
    "h_loc_spenttime_mean_df, over_basetime_both_df = gangneung_coffee_1.calc_loc_people_spenttime(pre_raw_data, srcmac_unique_df, loc=True)\n",
    "srcmac_loc_seq_metrix = gangneung_coffee_1.create_srcmac_loc_sequence_metrix(over_basetime_both_df)\n",
    "# cluster_metrix = clustering(srcmac_loc_seq_metrix)"
   ]
  },
  {
   "cell_type": "code",
   "execution_count": 4,
   "id": "628d6144-f659-42da-86a0-5f5aeb5f1277",
   "metadata": {},
   "outputs": [],
   "source": [
    "# gangneung_coffee_1.zone_tbl[\"coords\"] = gangneung_coffee_1.zone_tbl[\"coords\"].map(literal_eval)\n",
    "mtx_seq_df = metrix_to_sequence(gangneung_coffee_1.zone_tbl, srcmac_loc_seq_metrix)"
   ]
  },
  {
   "cell_type": "code",
   "execution_count": 5,
   "id": "207e1ce6-f587-4593-b875-14435cf8b5a8",
   "metadata": {},
   "outputs": [
    {
     "name": "stderr",
     "output_type": "stream",
     "text": [
      "11/14/2024 17:38:24 - INFO - plot.plot -   Location Coords : [37.771073, 128.950652]\n",
      "11/14/2024 17:38:24 - INFO - plot.plot -   Location Coords : [37.773863, 128.945552]\n",
      "11/14/2024 17:38:24 - INFO - plot.plot -   Location Coords : [37.776558, 128.942357]\n",
      "11/14/2024 17:38:24 - INFO - plot.plot -   Location Coords : [37.77769, 128.940113]\n",
      "11/14/2024 17:38:24 - INFO - plot.plot -   Location Coords : [37.772114, 128.950617]\n",
      "11/14/2024 17:38:24 - INFO - plot.plot -   Location Coords : [37.771512, 128.948725]\n",
      "11/14/2024 17:38:24 - INFO - plot.plot -   Location Coords : [37.771187, 128.950066]\n",
      "11/14/2024 17:38:24 - INFO - plot.plot -   Location Coords : [37.772714, 128.947325]\n",
      "11/14/2024 17:38:24 - INFO - plot.plot -   Location Coords : [37.775693, 128.941745]\n",
      "11/14/2024 17:38:24 - INFO - plot.plot -   Location Coords : [37.773312, 128.946159]\n",
      "11/14/2024 17:38:24 - INFO - plot.plot -   Location Coords : [37.774821, 128.943956]\n",
      "11/14/2024 17:38:24 - INFO - plot.plot -   Location Coords : [37.77592, 128.942041]\n"
     ]
    }
   ],
   "source": [
    "# Plot\n",
    "plot = CongestionPolt(gangneung_coffee_1.zone_tbl, mtx_seq_df)\n",
    "plot.seq_to_seq_poly_line(\"강릉항 방파제\")"
   ]
  },
  {
   "cell_type": "code",
   "execution_count": null,
   "id": "11dcb612-bbc0-4740-b8f7-4b665ff02235",
   "metadata": {},
   "outputs": [],
   "source": []
  }
 ],
 "metadata": {
  "kernelspec": {
   "display_name": "Python 3 (ipykernel)",
   "language": "python",
   "name": "python3"
  },
  "language_info": {
   "codemirror_mode": {
    "name": "ipython",
    "version": 3
   },
   "file_extension": ".py",
   "mimetype": "text/x-python",
   "name": "python",
   "nbconvert_exporter": "python",
   "pygments_lexer": "ipython3",
   "version": "3.13.0"
  }
 },
 "nbformat": 4,
 "nbformat_minor": 5
}
