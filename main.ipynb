{
 "cells": [
  {
   "cell_type": "code",
   "execution_count": null,
   "id": "25dfe8b6-d0e3-437f-b266-dbf3bb69d670",
   "metadata": {},
   "outputs": [],
   "source": [
    "\"\"\"\n",
    "date : 2024-11-25\n",
    "version : 1.1.0\n",
    "writer : cwkang\n",
    "\"\"\""
   ]
  },
  {
   "cell_type": "code",
   "execution_count": 1,
   "id": "5c9a055a-cb16-4a70-8a67-b3e5fdb84e6f",
   "metadata": {},
   "outputs": [],
   "source": [
    "import os\n",
    "import json\n",
    "import logging\n",
    "import argparse\n",
    "import folium\n",
    "import warnings\n",
    "import numpy as np\n",
    "import pandas as pd\n",
    "from PIL import Image\n",
    "from folium import plugins\n",
    "from ast import literal_eval\n",
    "from attrdictionary  import AttrDict\n",
    "\n",
    "from utils import init_logger\n",
    "from preprocessing import Preprocessing\n",
    "from analyzer import clustering, metrix_to_sequence\n",
    "from plot import CongestionPolt, CongestionImagePolt\n",
    "\n",
    "logger = logging.getLogger(__name__)\n",
    "warnings.filterwarnings(\"ignore\")"
   ]
  },
  {
   "cell_type": "code",
   "execution_count": 2,
   "id": "6c64947f-888d-4a70-9399-8f5de8263157",
   "metadata": {},
   "outputs": [],
   "source": [
    "init_logger()\n",
    "\n",
    "cli_parser = argparse.ArgumentParser()\n",
    "cli_args = cli_parser.parse_args(\"\")\n",
    "\n",
    "cli_args.config_dir = \"config\"\n",
    "cli_args.config_file = \"config.json\"\n",
    "\n",
    "with open(os.path.join(cli_args.config_dir, cli_args.config_file), encoding=\"utf-8\") as f:\n",
    "    args = AttrDict(json.load(f))"
   ]
  },
  {
   "cell_type": "code",
   "execution_count": 3,
   "id": "22d100fa-b324-486a-873e-ca1029e58ed5",
   "metadata": {},
   "outputs": [
    {
     "name": "stderr",
     "output_type": "stream",
     "text": [
      "11/25/2024 16:53:23 - INFO - preprocessing.preprocessing -   gangneung_zoneTable.csv DataFrame Shape : (12, 8)\n",
      "11/25/2024 16:53:24 - INFO - preprocessing.preprocessing -   gangneung_rawData_20241026.csv DataFrame Shape : (2894868, 4)\n",
      "11/25/2024 16:53:45 - INFO - preprocessing.preprocessing -   The Processed DataFrame Shape : (2517406, 5)\n",
      "11/25/2024 16:53:45 - INFO - preprocessing.preprocessing -   SRCMAC Unique Number : (41872, 4)\n",
      "11/25/2024 16:53:45 - INFO - preprocessing.preprocessing -   People Count by Non-Location : (41872, 5)\n",
      "11/25/2024 16:53:45 - INFO - preprocessing.preprocessing -   People Count by Non-Location : (12, 2)\n",
      "11/25/2024 16:53:46 - INFO - preprocessing.preprocessing -   People Count by Location : (37956, 6)\n",
      "11/25/2024 16:53:46 - INFO - preprocessing.preprocessing -   People Count by Location : (37657, 7)\n",
      "11/25/2024 16:53:49 - INFO - preprocessing.preprocessing -   v1026_일자별 공간별 시간대별 체류시간.csv has been created!\n"
     ]
    },
    {
     "name": "stdout",
     "output_type": "stream",
     "text": [
      "CPU times: total: 12.7 s\n",
      "Wall time: 26.4 s\n"
     ]
    }
   ],
   "source": [
    "%%time\n",
    "prep = Preprocessing(args)\n",
    "\n",
    "# SRCMAC Unique 값 추출\n",
    "pre_raw_data = prep.get_preprocessed_data(raw_data=args.raw_data, time=True)\n",
    "srcmac_unique_df = prep.calc_srcmac_unique(pre_raw_data)\n",
    "\n",
    "# 일자별 SRCMAC의 수\n",
    "people_cnt, _ = prep.calc_loc_people_counts(pre_raw_data, srcmac_unique_df, cumsum=\"00:01:00\", loc=False, on_time=False, is_save=False)\n",
    "\n",
    "# 시간대별 SRCMAC의 수\n",
    "h_people_cnt, _ = prep.calc_loc_people_counts(pre_raw_data, srcmac_unique_df, cumsum=\"00:01:00\", loc=False, on_time=True, is_save=False)\n",
    "\n",
    "# 공간별 체류인원수\n",
    "loc_srcmac_cnt, loc_people_cnt, srcmac_uni_matched_raw_data = prep.calc_loc_people_counts(pre_raw_data, srcmac_unique_df, cumsum=\"00:01:00\", loc=True, on_time=False, is_save=False)\n",
    "\n",
    "# 공간별 시간별 체류인원수\n",
    "loc_srcmac_cnt, loc_h_people_cnt, srcmac_uni_matched_raw_data = prep.calc_loc_people_counts(pre_raw_data, srcmac_unique_df, cumsum=\"00:01:00\", loc=True, on_time=True, is_save=False)\n",
    "\n",
    "# 일자별 평균 체류시간\n",
    "# spenttime_mean_df, loc_spenttime_mean_df, over_basetime_both_df = prep.calc_loc_people_spenttime(pre_raw_data, srcmac_unique_df, base_time=10, time_diff=\"00:01:00\", loc=False, on_time=False, is_save=False)\n",
    "\n",
    "# 일자별 공간별 시간대별 평균 체류시간\n",
    "loc_h_spenttime_mean_df = prep.calc_loc_people_spenttime(pre_raw_data, srcmac_unique_df, base_time=10, time_diff=\"00:01:00\", loc=True, entry_time=True, is_save=True)\n",
    "\n",
    "# # Plot를 위한 Matrix 데이터\n",
    "# srcmac_loc_seq_metrix = prep.create_srcmac_loc_sequence_metrix(over_basetime_both_df)\n",
    "# cluster_metrix = clustering(srcmac_loc_seq_metrix)\n",
    "# mtx_seq_df = metrix_to_sequence(prep.zone_tbl, srcmac_loc_seq_metrix)"
   ]
  },
  {
   "cell_type": "code",
   "execution_count": null,
   "id": "24763486-1edc-4ac0-988c-1eb27751242f",
   "metadata": {},
   "outputs": [],
   "source": [
    "# 체류 시간\n",
    "# 일자별 평균 체류시간\n",
    "# spenttime_mean_df[\"time_diff\"].mean()\n",
    "\n",
    "# 일자별 시간대별 평균 체류시간\n",
    "loc_spenttime_mean_df\n",
    "\n",
    "# 일자별 위치별 평균 체류시간\n",
    "# 일자별 시간대별 위치별 평균 체류시간"
   ]
  },
  {
   "cell_type": "code",
   "execution_count": null,
   "id": "f20df292-3e34-46b6-a5d4-d756b3783a4d",
   "metadata": {},
   "outputs": [],
   "source": [
    "pre_raw_data\n",
    "srcmac_unique_df\n",
    "\n",
    "# 1시간 단위로 그룹화하기 위해 hour 컬럼 추가\n",
    "pre_raw_data[\"hour\"] = pre_raw_data[\"TIME_KST\"].dt.floor(\"h\")\n",
    "\n",
    "# 시계열 순으로 정렬\n",
    "pre_raw_data = pre_raw_data.sort_values(by=\"TIME_KST\", ascending=True).reset_index(drop=True)\n",
    "\n",
    "# TIME_KST hh:mm:ss 포멧 추가\n",
    "pre_raw_data[\"TIME_KST(hh:mm:ss)\"] = pd.to_datetime(pre_raw_data[\"TIME_KST\"]).dt.strftime(\"%Y-%m-%d %H:%M:%S\")\n",
    "pre_raw_data[\"TIME_KST(hh:mm:ss)\"] = pd.to_datetime(pre_raw_data[\"TIME_KST(hh:mm:ss)\"])\n",
    "\n",
    "# 동일 시간에 SRCMAC이 중복 시 max rssi만 추출\n",
    "pre_raw_data = pre_raw_data.loc[pre_raw_data.groupby([\"TIME_KST(hh:mm:ss)\", \"SRCMAC\"])[\"RSSI\"].idxmax()]\n",
    "\n",
    "# 시계열 순으로 정렬\n",
    "pre_raw_data = pre_raw_data.sort_values(by=\"TIME_KST\", ascending=True).reset_index(drop=True)\n",
    "\n",
    "# srcmac unique만 추출\n",
    "_srcmac_unique_df = pre_raw_data[pre_raw_data[\"SRCMAC\"].isin(srcmac_unique_df[\"SRCMAC\"])].reset_index(drop=True)\n",
    "_srcmac_unique_df"
   ]
  },
  {
   "cell_type": "code",
   "execution_count": null,
   "id": "71058e7a-321e-4392-8bd8-1381d99f405b",
   "metadata": {},
   "outputs": [],
   "source": [
    "# 각 hour, SRCMAC, locatioon 별 min time과 max time을 계산\n",
    "h_src_loc_df = _srcmac_unique_df.groupby([\"SRCMAC\", \"location\", \"hour\"])[\"TIME_KST(hh:mm:ss)\"].agg([\"min\", \"max\"])\n",
    "h_src_loc_df[\"time_diff\"] = h_src_loc_df[\"max\"] - h_src_loc_df[\"min\"]\n",
    "\n",
    "# 각 hour, SRCMAC, locatioon 별 rssi mean을 계산\n",
    "rssi_df = _srcmac_unique_df.groupby([\"SRCMAC\", \"location\", \"hour\"])[\"RSSI\"].agg([\"mean\"]).round(0)\n",
    "\n",
    "# h_src_loc_df & rssi_df merge\n",
    "both_df = pd.merge(h_src_loc_df, rssi_df, left_index=True, right_index=True).reset_index()\n",
    "both_df"
   ]
  },
  {
   "cell_type": "code",
   "execution_count": null,
   "id": "a7c98cc3-cab2-494e-902e-225753bf3d49",
   "metadata": {},
   "outputs": [],
   "source": [
    "# SRCMAC 별 time_diff의 평균이 10시간 이상인 SRCMAC 제거\n",
    "time_diff_sum = both_df.groupby(\"SRCMAC\")[\"time_diff\"].sum()\n",
    "over_basetime_index = time_diff_sum[time_diff_sum < pd.Timedelta(hours=10)].index\n",
    "over_basetime_both_df = both_df[both_df[\"SRCMAC\"].isin(over_basetime_index)].reset_index(drop=True)\n",
    "over_basetime_both_df"
   ]
  },
  {
   "cell_type": "code",
   "execution_count": null,
   "id": "71cd8f86-88f8-4567-b908-3b43e609ed4e",
   "metadata": {},
   "outputs": [],
   "source": [
    "# time_diff가 0 제거\n",
    "over_basetime_both_df = over_basetime_both_df[over_basetime_both_df[\"time_diff\"] > pd.Timedelta(\"00:01:00\")].reset_index(drop=True)\n",
    "over_basetime_both_df"
   ]
  },
  {
   "cell_type": "code",
   "execution_count": null,
   "id": "30b93c31-eaa9-45fc-b25d-a4bde8f82e74",
   "metadata": {},
   "outputs": [],
   "source": [
    "hour_min = over_basetime_both_df.groupby([\"SRCMAC\", \"location\"])[[\"hour\"]].agg(\"min\")\n",
    "hour_min.columns = [\"hour_min\"]\n",
    "hour_min\n",
    "\n",
    "over_basetime_both_df = over_basetime_both_df.set_index([\"SRCMAC\", \"location\"])\n",
    "over_basetime_both_df"
   ]
  },
  {
   "cell_type": "code",
   "execution_count": null,
   "id": "7b388ac0-7856-433e-8d75-2891c08f0523",
   "metadata": {},
   "outputs": [],
   "source": [
    "over_basetime_both_df = pd.merge(over_basetime_both_df, hour_min, left_index=True, right_index=True).reset_index()"
   ]
  },
  {
   "cell_type": "code",
   "execution_count": null,
   "id": "c44223f9-1970-4333-a655-272a74818e6c",
   "metadata": {},
   "outputs": [],
   "source": [
    "# SRCMAC, location별 평균 time_diff\n",
    "src_loc_spenttime_mean_df = over_basetime_both_df.groupby([\"SRCMAC\", \"location\", \"hour_min\"])[[\"time_diff\"]].agg(\"sum\").reset_index()\n",
    "src_loc_spenttime_mean_df"
   ]
  },
  {
   "cell_type": "code",
   "execution_count": null,
   "id": "2cd3db3e-c696-4562-acad-a24eb68932c8",
   "metadata": {},
   "outputs": [],
   "source": [
    "# location별 평균 time_diff\n",
    "loc_spenttime_mean_df = src_loc_spenttime_mean_df.groupby([\"location\", \"hour_min\"])[[\"time_diff\"]].agg(\"mean\").reset_index()\n",
    "loc_spenttime_mean_df.to_csv(\"./data/test.csv\", encoding=\"utf-8-sig\")"
   ]
  },
  {
   "cell_type": "code",
   "execution_count": null,
   "id": "50b18656-2583-4840-aad0-cbee937ebb71",
   "metadata": {},
   "outputs": [],
   "source": [
    "if args.task == \"gangneung\":\n",
    "    # min: 43, max: 2527\n",
    "    plot = CongestionPolt(prep.zone_tbl, args)\n",
    "\n",
    "    if args.is_line_plot == True:\n",
    "        # Line Plot    \n",
    "        plot.seq_to_seq_flow_polyline(cluster_metrix, n_priority=50)\n",
    "\n",
    "    if args.is_heatmap_plot == True:\n",
    "        for hour in range(9, 21):\n",
    "            # Heatmap\n",
    "            plot.heat_map(loc_h_people_cnt, hour, is_interpolate=True)\n",
    "\n",
    "elif args.task == \"kme2024\":\n",
    "    # min: 26, max: 794\n",
    "    plot = CongestionImagePolt(prep.zone_tbl, args)\n",
    "\n",
    "    if args.is_line_plot == True:\n",
    "        plot.seq_to_seq_flow_polyline(cluster_metrix, n_priority=50)\n",
    "\n",
    "    if args.is_heatmap_plot == True: \n",
    "        for hour in range(10, 19):\n",
    "            plot.heat_map(loc_h_people_cnt, hour, radius=70, is_interpolate=True, min_value=26, max_value=794)"
   ]
  },
  {
   "cell_type": "code",
   "execution_count": null,
   "id": "e20716d4-aa07-4ee6-92ab-ec130e1af9d9",
   "metadata": {},
   "outputs": [],
   "source": []
  }
 ],
 "metadata": {
  "kernelspec": {
   "display_name": "Python 3 (ipykernel)",
   "language": "python",
   "name": "python3"
  },
  "language_info": {
   "codemirror_mode": {
    "name": "ipython",
    "version": 3
   },
   "file_extension": ".py",
   "mimetype": "text/x-python",
   "name": "python",
   "nbconvert_exporter": "python",
   "pygments_lexer": "ipython3",
   "version": "3.13.0"
  }
 },
 "nbformat": 4,
 "nbformat_minor": 5
}
